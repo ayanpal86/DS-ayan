{
  "nbformat": 4,
  "nbformat_minor": 0,
  "metadata": {
    "colab": {
      "provenance": []
    },
    "kernelspec": {
      "name": "python3",
      "display_name": "Python 3"
    },
    "language_info": {
      "name": "python"
    }
  },
  "cells": [
    {
      "cell_type": "markdown",
      "source": [
        "**Task 3: Customer Segmentation / Clustering**"
      ],
      "metadata": {
        "id": "2Lf81UYgklU6"
      }
    },
    {
      "cell_type": "markdown",
      "source": [
        "Step - 1"
      ],
      "metadata": {
        "id": "bEwVADn6lM4M"
      }
    },
    {
      "cell_type": "code",
      "execution_count": 1,
      "metadata": {
        "colab": {
          "base_uri": "https://localhost:8080/",
          "height": 632
        },
        "id": "pcfgOhUUrrMS",
        "outputId": "01ff4575-6360-432f-894b-c4b1b750d578"
      },
      "outputs": [
        {
          "output_type": "display_data",
          "data": {
            "text/plain": [
              "<IPython.core.display.HTML object>"
            ],
            "text/html": [
              "\n",
              "     <input type=\"file\" id=\"files-8d83ac99-2761-4ff0-a6b0-c1a0aee717ec\" name=\"files[]\" multiple disabled\n",
              "        style=\"border:none\" />\n",
              "     <output id=\"result-8d83ac99-2761-4ff0-a6b0-c1a0aee717ec\">\n",
              "      Upload widget is only available when the cell has been executed in the\n",
              "      current browser session. Please rerun this cell to enable.\n",
              "      </output>\n",
              "      <script>// Copyright 2017 Google LLC\n",
              "//\n",
              "// Licensed under the Apache License, Version 2.0 (the \"License\");\n",
              "// you may not use this file except in compliance with the License.\n",
              "// You may obtain a copy of the License at\n",
              "//\n",
              "//      http://www.apache.org/licenses/LICENSE-2.0\n",
              "//\n",
              "// Unless required by applicable law or agreed to in writing, software\n",
              "// distributed under the License is distributed on an \"AS IS\" BASIS,\n",
              "// WITHOUT WARRANTIES OR CONDITIONS OF ANY KIND, either express or implied.\n",
              "// See the License for the specific language governing permissions and\n",
              "// limitations under the License.\n",
              "\n",
              "/**\n",
              " * @fileoverview Helpers for google.colab Python module.\n",
              " */\n",
              "(function(scope) {\n",
              "function span(text, styleAttributes = {}) {\n",
              "  const element = document.createElement('span');\n",
              "  element.textContent = text;\n",
              "  for (const key of Object.keys(styleAttributes)) {\n",
              "    element.style[key] = styleAttributes[key];\n",
              "  }\n",
              "  return element;\n",
              "}\n",
              "\n",
              "// Max number of bytes which will be uploaded at a time.\n",
              "const MAX_PAYLOAD_SIZE = 100 * 1024;\n",
              "\n",
              "function _uploadFiles(inputId, outputId) {\n",
              "  const steps = uploadFilesStep(inputId, outputId);\n",
              "  const outputElement = document.getElementById(outputId);\n",
              "  // Cache steps on the outputElement to make it available for the next call\n",
              "  // to uploadFilesContinue from Python.\n",
              "  outputElement.steps = steps;\n",
              "\n",
              "  return _uploadFilesContinue(outputId);\n",
              "}\n",
              "\n",
              "// This is roughly an async generator (not supported in the browser yet),\n",
              "// where there are multiple asynchronous steps and the Python side is going\n",
              "// to poll for completion of each step.\n",
              "// This uses a Promise to block the python side on completion of each step,\n",
              "// then passes the result of the previous step as the input to the next step.\n",
              "function _uploadFilesContinue(outputId) {\n",
              "  const outputElement = document.getElementById(outputId);\n",
              "  const steps = outputElement.steps;\n",
              "\n",
              "  const next = steps.next(outputElement.lastPromiseValue);\n",
              "  return Promise.resolve(next.value.promise).then((value) => {\n",
              "    // Cache the last promise value to make it available to the next\n",
              "    // step of the generator.\n",
              "    outputElement.lastPromiseValue = value;\n",
              "    return next.value.response;\n",
              "  });\n",
              "}\n",
              "\n",
              "/**\n",
              " * Generator function which is called between each async step of the upload\n",
              " * process.\n",
              " * @param {string} inputId Element ID of the input file picker element.\n",
              " * @param {string} outputId Element ID of the output display.\n",
              " * @return {!Iterable<!Object>} Iterable of next steps.\n",
              " */\n",
              "function* uploadFilesStep(inputId, outputId) {\n",
              "  const inputElement = document.getElementById(inputId);\n",
              "  inputElement.disabled = false;\n",
              "\n",
              "  const outputElement = document.getElementById(outputId);\n",
              "  outputElement.innerHTML = '';\n",
              "\n",
              "  const pickedPromise = new Promise((resolve) => {\n",
              "    inputElement.addEventListener('change', (e) => {\n",
              "      resolve(e.target.files);\n",
              "    });\n",
              "  });\n",
              "\n",
              "  const cancel = document.createElement('button');\n",
              "  inputElement.parentElement.appendChild(cancel);\n",
              "  cancel.textContent = 'Cancel upload';\n",
              "  const cancelPromise = new Promise((resolve) => {\n",
              "    cancel.onclick = () => {\n",
              "      resolve(null);\n",
              "    };\n",
              "  });\n",
              "\n",
              "  // Wait for the user to pick the files.\n",
              "  const files = yield {\n",
              "    promise: Promise.race([pickedPromise, cancelPromise]),\n",
              "    response: {\n",
              "      action: 'starting',\n",
              "    }\n",
              "  };\n",
              "\n",
              "  cancel.remove();\n",
              "\n",
              "  // Disable the input element since further picks are not allowed.\n",
              "  inputElement.disabled = true;\n",
              "\n",
              "  if (!files) {\n",
              "    return {\n",
              "      response: {\n",
              "        action: 'complete',\n",
              "      }\n",
              "    };\n",
              "  }\n",
              "\n",
              "  for (const file of files) {\n",
              "    const li = document.createElement('li');\n",
              "    li.append(span(file.name, {fontWeight: 'bold'}));\n",
              "    li.append(span(\n",
              "        `(${file.type || 'n/a'}) - ${file.size} bytes, ` +\n",
              "        `last modified: ${\n",
              "            file.lastModifiedDate ? file.lastModifiedDate.toLocaleDateString() :\n",
              "                                    'n/a'} - `));\n",
              "    const percent = span('0% done');\n",
              "    li.appendChild(percent);\n",
              "\n",
              "    outputElement.appendChild(li);\n",
              "\n",
              "    const fileDataPromise = new Promise((resolve) => {\n",
              "      const reader = new FileReader();\n",
              "      reader.onload = (e) => {\n",
              "        resolve(e.target.result);\n",
              "      };\n",
              "      reader.readAsArrayBuffer(file);\n",
              "    });\n",
              "    // Wait for the data to be ready.\n",
              "    let fileData = yield {\n",
              "      promise: fileDataPromise,\n",
              "      response: {\n",
              "        action: 'continue',\n",
              "      }\n",
              "    };\n",
              "\n",
              "    // Use a chunked sending to avoid message size limits. See b/62115660.\n",
              "    let position = 0;\n",
              "    do {\n",
              "      const length = Math.min(fileData.byteLength - position, MAX_PAYLOAD_SIZE);\n",
              "      const chunk = new Uint8Array(fileData, position, length);\n",
              "      position += length;\n",
              "\n",
              "      const base64 = btoa(String.fromCharCode.apply(null, chunk));\n",
              "      yield {\n",
              "        response: {\n",
              "          action: 'append',\n",
              "          file: file.name,\n",
              "          data: base64,\n",
              "        },\n",
              "      };\n",
              "\n",
              "      let percentDone = fileData.byteLength === 0 ?\n",
              "          100 :\n",
              "          Math.round((position / fileData.byteLength) * 100);\n",
              "      percent.textContent = `${percentDone}% done`;\n",
              "\n",
              "    } while (position < fileData.byteLength);\n",
              "  }\n",
              "\n",
              "  // All done.\n",
              "  yield {\n",
              "    response: {\n",
              "      action: 'complete',\n",
              "    }\n",
              "  };\n",
              "}\n",
              "\n",
              "scope.google = scope.google || {};\n",
              "scope.google.colab = scope.google.colab || {};\n",
              "scope.google.colab._files = {\n",
              "  _uploadFiles,\n",
              "  _uploadFilesContinue,\n",
              "};\n",
              "})(self);\n",
              "</script> "
            ]
          },
          "metadata": {}
        },
        {
          "output_type": "stream",
          "name": "stdout",
          "text": [
            "Saving Transactions.csv to Transactions.csv\n",
            "Saving Products.csv to Products.csv\n",
            "Saving Customers.csv to Customers.csv\n",
            "dict_keys(['Transactions.csv', 'Products.csv', 'Customers.csv'])\n"
          ]
        },
        {
          "output_type": "execute_result",
          "data": {
            "text/plain": [
              "(  CustomerID        CustomerName         Region  SignupDate\n",
              " 0      C0001    Lawrence Carroll  South America  2022-07-10\n",
              " 1      C0002      Elizabeth Lutz           Asia  2022-02-13\n",
              " 2      C0003      Michael Rivera  South America  2024-03-07\n",
              " 3      C0004  Kathleen Rodriguez  South America  2022-10-09\n",
              " 4      C0005         Laura Weber           Asia  2022-08-15,\n",
              "   ProductID              ProductName     Category   Price\n",
              " 0      P001     ActiveWear Biography        Books  169.30\n",
              " 1      P002    ActiveWear Smartwatch  Electronics  346.30\n",
              " 2      P003  ComfortLiving Biography        Books   44.12\n",
              " 3      P004            BookWorld Rug   Home Decor   95.69\n",
              " 4      P005          TechPro T-Shirt     Clothing  429.31,\n",
              "   TransactionID CustomerID ProductID      TransactionDate  Quantity  \\\n",
              " 0        T00001      C0199      P067  2024-08-25 12:38:23         1   \n",
              " 1        T00112      C0146      P067  2024-05-27 22:23:54         1   \n",
              " 2        T00166      C0127      P067   2024-04-25 7:38:55         1   \n",
              " 3        T00272      C0087      P067  2024-03-26 22:55:37         2   \n",
              " 4        T00363      C0070      P067  2024-03-21 15:10:10         3   \n",
              " \n",
              "    TotalValue   Price  \n",
              " 0      300.68  300.68  \n",
              " 1      300.68  300.68  \n",
              " 2      300.68  300.68  \n",
              " 3      601.36  300.68  \n",
              " 4      902.04  300.68  )"
            ]
          },
          "metadata": {},
          "execution_count": 1
        }
      ],
      "source": [
        "from google.colab import files\n",
        "import pandas as pd\n",
        "import io\n",
        "\n",
        "uploaded = files.upload()\n",
        "\n",
        "print(uploaded.keys())\n",
        "\n",
        "\n",
        "customer_file = [key for key in uploaded.keys() if 'Customers' in key][0]\n",
        "product_file = [key for key in uploaded.keys() if 'Products' in key][0]\n",
        "transaction_file = [key for key in uploaded.keys() if 'Transactions' in key][0]\n",
        "\n",
        "customers = pd.read_csv(io.BytesIO(uploaded[customer_file]))\n",
        "products = pd.read_csv(io.BytesIO(uploaded[product_file]))\n",
        "transactions = pd.read_csv(io.BytesIO(uploaded[transaction_file]))\n",
        "\n",
        "# Displays first few rows\n",
        "customers.head(), products.head(), transactions.head()"
      ]
    },
    {
      "cell_type": "markdown",
      "source": [
        "Step - 2"
      ],
      "metadata": {
        "id": "7UvtKDW3lSkZ"
      }
    },
    {
      "cell_type": "code",
      "source": [
        "import pandas as pd\n",
        "\n",
        "\n",
        "# 1. Checking for Duplicate Values\n",
        "print(\"Duplicate values in Customers:\", customers.duplicated().sum())\n",
        "print(\"Duplicate values in Products:\", products.duplicated().sum())\n",
        "print(\"Duplicate values in Transactions:\", transactions.duplicated().sum())\n",
        "\n",
        "\n",
        "# 2. Checking for Null Values\n",
        "print(\"\\nNull values in Customers:\\n\", customers.isnull().sum())\n",
        "print(\"\\nNull values in Products:\\n\", products.isnull().sum())\n",
        "print(\"\\nNull values in Transactions:\\n\", transactions.isnull().sum())\n",
        "\n",
        "products.dropna(subset=['ProductName'], inplace=True)"
      ],
      "metadata": {
        "colab": {
          "base_uri": "https://localhost:8080/"
        },
        "id": "B5uNTTV0SiJB",
        "outputId": "0c3634e5-e5d2-4461-990b-28f6dbb63f3e"
      },
      "execution_count": 2,
      "outputs": [
        {
          "output_type": "stream",
          "name": "stdout",
          "text": [
            "Duplicate values in Customers: 0\n",
            "Duplicate values in Products: 0\n",
            "Duplicate values in Transactions: 0\n",
            "\n",
            "Null values in Customers:\n",
            " CustomerID      0\n",
            "CustomerName    0\n",
            "Region          0\n",
            "SignupDate      0\n",
            "dtype: int64\n",
            "\n",
            "Null values in Products:\n",
            " ProductID      0\n",
            "ProductName    0\n",
            "Category       0\n",
            "Price          0\n",
            "dtype: int64\n",
            "\n",
            "Null values in Transactions:\n",
            " TransactionID      0\n",
            "CustomerID         0\n",
            "ProductID          0\n",
            "TransactionDate    0\n",
            "Quantity           0\n",
            "TotalValue         0\n",
            "Price              0\n",
            "dtype: int64\n"
          ]
        }
      ]
    },
    {
      "cell_type": "markdown",
      "source": [
        "Step- 3 :"
      ],
      "metadata": {
        "id": "GH-hNMjxlVC5"
      }
    },
    {
      "cell_type": "code",
      "source": [
        "import pandas as pd\n",
        "from sklearn.cluster import KMeans\n",
        "from sklearn.preprocessing import StandardScaler\n",
        "from sklearn.metrics import davies_bouldin_score\n",
        "import matplotlib.pyplot as plt\n",
        "import seaborn as sns\n",
        "\n",
        "# Merging the datasets\n",
        "customer_transactions = pd.merge(transactions, customers, on='CustomerID', how='left')\n",
        "data = pd.merge(customer_transactions, products, on='ProductID', how='left')\n",
        "\n",
        "# Select relevant features for clustering\n",
        "features = ['CustomerName', 'Region', 'SignupDate', 'Category', 'TotalValue', 'Quantity']\n",
        "features = ['TotalValue', 'Quantity']\n",
        "X = data[features]\n",
        "\n",
        "# Handling missing values for numerical features only\n",
        "numerical_features = ['TotalValue', 'Quantity']\n",
        "X = X.fillna(X.mean())\n",
        "X[numerical_features] = X[numerical_features].fillna(X[numerical_features].mean())\n",
        "\n",
        "scaler = StandardScaler()\n",
        "X_scaled = X.copy()\n",
        "X_scaled = scaler.fit_transform(X)"
      ],
      "metadata": {
        "id": "aacnbR29gqvC"
      },
      "execution_count": 9,
      "outputs": []
    },
    {
      "cell_type": "markdown",
      "source": [
        "Step - 4 : Applying K-means clustering"
      ],
      "metadata": {
        "id": "VvNHIC2rlZun"
      }
    },
    {
      "cell_type": "code",
      "source": [
        "wcss = []\n",
        "for i in range(2, 11):  # Checking for 2 to 10 clusters\n",
        "    kmeans = KMeans(n_clusters=i, random_state=42)\n",
        "    kmeans.fit(X_scaled)\n",
        "    wcss.append(kmeans.inertia_)\n",
        "\n",
        "plt.plot(range(2, 11), wcss)\n",
        "plt.title('Elbow Method')\n",
        "plt.xlabel('Number of Clusters')\n",
        "plt.ylabel('WCSS')\n",
        "plt.show()\n",
        "\n",
        "# Applying K-Means clustering with the chosen number of clusters\n",
        "n_clusters = 4\n",
        "kmeans = KMeans(n_clusters=n_clusters, random_state=42)\n",
        "data['Cluster'] = kmeans.fit_predict(X_scaled)"
      ],
      "metadata": {
        "colab": {
          "base_uri": "https://localhost:8080/",
          "height": 472
        },
        "id": "BRWA6cXdg-Pj",
        "outputId": "3ab57201-c849-4261-b46a-4de018fe1c4f"
      },
      "execution_count": 10,
      "outputs": [
        {
          "output_type": "display_data",
          "data": {
            "text/plain": [
              "<Figure size 640x480 with 1 Axes>"
            ],
            "image/png": "[encoded data removed]"
          },
          "metadata": {}
        }
      ]
    },
    {
      "cell_type": "code",
      "source": [],
      "metadata": {
        "id": "rgVz_CHRkTwX"
      },
      "execution_count": null,
      "outputs": []
    }
  ]
}