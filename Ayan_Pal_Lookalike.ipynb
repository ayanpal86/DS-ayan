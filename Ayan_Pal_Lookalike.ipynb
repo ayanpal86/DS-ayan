{
  "nbformat": 4,
  "nbformat_minor": 0,
  "metadata": {
    "colab": {
      "provenance": []
    },
    "kernelspec": {
      "name": "python3",
      "display_name": "Python 3"
    },
    "language_info": {
      "name": "python"
    }
  },
  "cells": [
    {
      "cell_type": "markdown",
      "source": [
        "**Assignment Tasks:**\n",
        "\n",
        "**Task - 2:**  Lookalike Model"
      ],
      "metadata": {
        "id": "xJmr8JMYQBt-"
      }
    },
    {
      "cell_type": "code",
      "execution_count": 2,
      "metadata": {
        "colab": {
          "base_uri": "https://localhost:8080/",
          "height": 632
        },
        "id": "pcfgOhUUrrMS",
        "outputId": "8329a8b8-ce83-4087-c4ae-52c9ec4b6099"
      },
      "outputs": [
        {
          "output_type": "display_data",
          "data": {
            "text/plain": [
              "<IPython.core.display.HTML object>"
            ],
            "text/html": [
              "\n",
              "     <input type=\"file\" id=\"files-da9b9be8-404c-447e-a99c-87e9a65de32a\" name=\"files[]\" multiple disabled\n",
              "        style=\"border:none\" />\n",
              "     <output id=\"result-da9b9be8-404c-447e-a99c-87e9a65de32a\">\n",
              "      Upload widget is only available when the cell has been executed in the\n",
              "      current browser session. Please rerun this cell to enable.\n",
              "      </output>\n",
              "      <script>// Copyright 2017 Google LLC\n",
              "//\n",
              "// Licensed under the Apache License, Version 2.0 (the \"License\");\n",
              "// you may not use this file except in compliance with the License.\n",
              "// You may obtain a copy of the License at\n",
              "//\n",
              "//      http://www.apache.org/licenses/LICENSE-2.0\n",
              "//\n",
              "// Unless required by applicable law or agreed to in writing, software\n",
              "// distributed under the License is distributed on an \"AS IS\" BASIS,\n",
              "// WITHOUT WARRANTIES OR CONDITIONS OF ANY KIND, either express or implied.\n",
              "// See the License for the specific language governing permissions and\n",
              "// limitations under the License.\n",
              "\n",
              "/**\n",
              " * @fileoverview Helpers for google.colab Python module.\n",
              " */\n",
              "(function(scope) {\n",
              "function span(text, styleAttributes = {}) {\n",
              "  const element = document.createElement('span');\n",
              "  element.textContent = text;\n",
              "  for (const key of Object.keys(styleAttributes)) {\n",
              "    element.style[key] = styleAttributes[key];\n",
              "  }\n",
              "  return element;\n",
              "}\n",
              "\n",
              "// Max number of bytes which will be uploaded at a time.\n",
              "const MAX_PAYLOAD_SIZE = 100 * 1024;\n",
              "\n",
              "function _uploadFiles(inputId, outputId) {\n",
              "  const steps = uploadFilesStep(inputId, outputId);\n",
              "  const outputElement = document.getElementById(outputId);\n",
              "  // Cache steps on the outputElement to make it available for the next call\n",
              "  // to uploadFilesContinue from Python.\n",
              "  outputElement.steps = steps;\n",
              "\n",
              "  return _uploadFilesContinue(outputId);\n",
              "}\n",
              "\n",
              "// This is roughly an async generator (not supported in the browser yet),\n",
              "// where there are multiple asynchronous steps and the Python side is going\n",
              "// to poll for completion of each step.\n",
              "// This uses a Promise to block the python side on completion of each step,\n",
              "// then passes the result of the previous step as the input to the next step.\n",
              "function _uploadFilesContinue(outputId) {\n",
              "  const outputElement = document.getElementById(outputId);\n",
              "  const steps = outputElement.steps;\n",
              "\n",
              "  const next = steps.next(outputElement.lastPromiseValue);\n",
              "  return Promise.resolve(next.value.promise).then((value) => {\n",
              "    // Cache the last promise value to make it available to the next\n",
              "    // step of the generator.\n",
              "    outputElement.lastPromiseValue = value;\n",
              "    return next.value.response;\n",
              "  });\n",
              "}\n",
              "\n",
              "/**\n",
              " * Generator function which is called between each async step of the upload\n",
              " * process.\n",
              " * @param {string} inputId Element ID of the input file picker element.\n",
              " * @param {string} outputId Element ID of the output display.\n",
              " * @return {!Iterable<!Object>} Iterable of next steps.\n",
              " */\n",
              "function* uploadFilesStep(inputId, outputId) {\n",
              "  const inputElement = document.getElementById(inputId);\n",
              "  inputElement.disabled = false;\n",
              "\n",
              "  const outputElement = document.getElementById(outputId);\n",
              "  outputElement.innerHTML = '';\n",
              "\n",
              "  const pickedPromise = new Promise((resolve) => {\n",
              "    inputElement.addEventListener('change', (e) => {\n",
              "      resolve(e.target.files);\n",
              "    });\n",
              "  });\n",
              "\n",
              "  const cancel = document.createElement('button');\n",
              "  inputElement.parentElement.appendChild(cancel);\n",
              "  cancel.textContent = 'Cancel upload';\n",
              "  const cancelPromise = new Promise((resolve) => {\n",
              "    cancel.onclick = () => {\n",
              "      resolve(null);\n",
              "    };\n",
              "  });\n",
              "\n",
              "  // Wait for the user to pick the files.\n",
              "  const files = yield {\n",
              "    promise: Promise.race([pickedPromise, cancelPromise]),\n",
              "    response: {\n",
              "      action: 'starting',\n",
              "    }\n",
              "  };\n",
              "\n",
              "  cancel.remove();\n",
              "\n",
              "  // Disable the input element since further picks are not allowed.\n",
              "  inputElement.disabled = true;\n",
              "\n",
              "  if (!files) {\n",
              "    return {\n",
              "      response: {\n",
              "        action: 'complete',\n",
              "      }\n",
              "    };\n",
              "  }\n",
              "\n",
              "  for (const file of files) {\n",
              "    const li = document.createElement('li');\n",
              "    li.append(span(file.name, {fontWeight: 'bold'}));\n",
              "    li.append(span(\n",
              "        `(${file.type || 'n/a'}) - ${file.size} bytes, ` +\n",
              "        `last modified: ${\n",
              "            file.lastModifiedDate ? file.lastModifiedDate.toLocaleDateString() :\n",
              "                                    'n/a'} - `));\n",
              "    const percent = span('0% done');\n",
              "    li.appendChild(percent);\n",
              "\n",
              "    outputElement.appendChild(li);\n",
              "\n",
              "    const fileDataPromise = new Promise((resolve) => {\n",
              "      const reader = new FileReader();\n",
              "      reader.onload = (e) => {\n",
              "        resolve(e.target.result);\n",
              "      };\n",
              "      reader.readAsArrayBuffer(file);\n",
              "    });\n",
              "    // Wait for the data to be ready.\n",
              "    let fileData = yield {\n",
              "      promise: fileDataPromise,\n",
              "      response: {\n",
              "        action: 'continue',\n",
              "      }\n",
              "    };\n",
              "\n",
              "    // Use a chunked sending to avoid message size limits. See b/62115660.\n",
              "    let position = 0;\n",
              "    do {\n",
              "      const length = Math.min(fileData.byteLength - position, MAX_PAYLOAD_SIZE);\n",
              "      const chunk = new Uint8Array(fileData, position, length);\n",
              "      position += length;\n",
              "\n",
              "      const base64 = btoa(String.fromCharCode.apply(null, chunk));\n",
              "      yield {\n",
              "        response: {\n",
              "          action: 'append',\n",
              "          file: file.name,\n",
              "          data: base64,\n",
              "        },\n",
              "      };\n",
              "\n",
              "      let percentDone = fileData.byteLength === 0 ?\n",
              "          100 :\n",
              "          Math.round((position / fileData.byteLength) * 100);\n",
              "      percent.textContent = `${percentDone}% done`;\n",
              "\n",
              "    } while (position < fileData.byteLength);\n",
              "  }\n",
              "\n",
              "  // All done.\n",
              "  yield {\n",
              "    response: {\n",
              "      action: 'complete',\n",
              "    }\n",
              "  };\n",
              "}\n",
              "\n",
              "scope.google = scope.google || {};\n",
              "scope.google.colab = scope.google.colab || {};\n",
              "scope.google.colab._files = {\n",
              "  _uploadFiles,\n",
              "  _uploadFilesContinue,\n",
              "};\n",
              "})(self);\n",
              "</script> "
            ]
          },
          "metadata": {}
        },
        {
          "output_type": "stream",
          "name": "stdout",
          "text": [
            "Saving Transactions.csv to Transactions.csv\n",
            "Saving Products.csv to Products.csv\n",
            "Saving Customers.csv to Customers.csv\n",
            "dict_keys(['Transactions.csv', 'Products.csv', 'Customers.csv'])\n"
          ]
        },
        {
          "output_type": "execute_result",
          "data": {
            "text/plain": [
              "(  CustomerID        CustomerName         Region  SignupDate\n",
              " 0      C0001    Lawrence Carroll  South America  2022-07-10\n",
              " 1      C0002      Elizabeth Lutz           Asia  2022-02-13\n",
              " 2      C0003      Michael Rivera  South America  2024-03-07\n",
              " 3      C0004  Kathleen Rodriguez  South America  2022-10-09\n",
              " 4      C0005         Laura Weber           Asia  2022-08-15,\n",
              "   ProductID              ProductName     Category   Price\n",
              " 0      P001     ActiveWear Biography        Books  169.30\n",
              " 1      P002    ActiveWear Smartwatch  Electronics  346.30\n",
              " 2      P003  ComfortLiving Biography        Books   44.12\n",
              " 3      P004            BookWorld Rug   Home Decor   95.69\n",
              " 4      P005          TechPro T-Shirt     Clothing  429.31,\n",
              "   TransactionID CustomerID ProductID      TransactionDate  Quantity  \\\n",
              " 0        T00001      C0199      P067  2024-08-25 12:38:23         1   \n",
              " 1        T00112      C0146      P067  2024-05-27 22:23:54         1   \n",
              " 2        T00166      C0127      P067   2024-04-25 7:38:55         1   \n",
              " 3        T00272      C0087      P067  2024-03-26 22:55:37         2   \n",
              " 4        T00363      C0070      P067  2024-03-21 15:10:10         3   \n",
              " \n",
              "    TotalValue   Price  \n",
              " 0      300.68  300.68  \n",
              " 1      300.68  300.68  \n",
              " 2      300.68  300.68  \n",
              " 3      601.36  300.68  \n",
              " 4      902.04  300.68  )"
            ]
          },
          "metadata": {},
          "execution_count": 2
        }
      ],
      "source": [
        "from google.colab import files\n",
        "import pandas as pd\n",
        "import io\n",
        "\n",
        "uploaded = files.upload()\n",
        "\n",
        "print(uploaded.keys())\n",
        "\n",
        "\n",
        "customer_file = [key for key in uploaded.keys() if 'Customers' in key][0]\n",
        "product_file = [key for key in uploaded.keys() if 'Products' in key][0]\n",
        "transaction_file = [key for key in uploaded.keys() if 'Transactions' in key][0]\n",
        "\n",
        "customers = pd.read_csv(io.BytesIO(uploaded[customer_file]))\n",
        "products = pd.read_csv(io.BytesIO(uploaded[product_file]))\n",
        "transactions = pd.read_csv(io.BytesIO(uploaded[transaction_file]))\n",
        "\n",
        "# Displays first few rows\n",
        "customers.head(), products.head(), transactions.head()"
      ]
    },
    {
      "cell_type": "code",
      "source": [
        "import pandas as pd\n",
        "\n",
        "\n",
        "# 1. Checking for Duplicate Values\n",
        "print(\"Duplicate values in Customers:\", customers.duplicated().sum())\n",
        "print(\"Duplicate values in Products:\", products.duplicated().sum())\n",
        "print(\"Duplicate values in Transactions:\", transactions.duplicated().sum())\n",
        "\n",
        "\n",
        "# 2. Checking for Null Values\n",
        "print(\"\\nNull values in Customers:\\n\", customers.isnull().sum())\n",
        "print(\"\\nNull values in Products:\\n\", products.isnull().sum())\n",
        "print(\"\\nNull values in Transactions:\\n\", transactions.isnull().sum())\n",
        "\n",
        "products.dropna(subset=['ProductName'], inplace=True)"
      ],
      "metadata": {
        "colab": {
          "base_uri": "https://localhost:8080/"
        },
        "id": "B5uNTTV0SiJB",
        "outputId": "4540010a-b819-4883-d757-d04e26123c9e"
      },
      "execution_count": 3,
      "outputs": [
        {
          "output_type": "stream",
          "name": "stdout",
          "text": [
            "Duplicate values in Customers: 0\n",
            "Duplicate values in Products: 0\n",
            "Duplicate values in Transactions: 0\n",
            "\n",
            "Null values in Customers:\n",
            " CustomerID      0\n",
            "CustomerName    0\n",
            "Region          0\n",
            "SignupDate      0\n",
            "dtype: int64\n",
            "\n",
            "Null values in Products:\n",
            " ProductID      0\n",
            "ProductName    0\n",
            "Category       0\n",
            "Price          0\n",
            "dtype: int64\n",
            "\n",
            "Null values in Transactions:\n",
            " TransactionID      0\n",
            "CustomerID         0\n",
            "ProductID          0\n",
            "TransactionDate    0\n",
            "Quantity           0\n",
            "TotalValue         0\n",
            "Price              0\n",
            "dtype: int64\n"
          ]
        }
      ]
    },
    {
      "cell_type": "code",
      "source": [
        "import pandas as pd\n",
        "from sklearn.preprocessing import StandardScaler\n",
        "from sklearn.metrics.pairwise import cosine_similarity\n",
        "\n",
        "customer_product_matrix = pd.crosstab(transactions['CustomerID'], transactions['ProductID'])\n",
        "\n",
        "customer_features = customers[['CustomerID', 'CustomerName', 'Region', 'SignupDate']]\n",
        "customer_product_matrix = customer_product_matrix.merge(customer_features, on='CustomerID', how='left')\n",
        "\n",
        "customer_product_matrix = customer_product_matrix.fillna(0)\n",
        "\n",
        "# Setting 'CustomerID' as index\n",
        "customer_product_matrix = customer_product_matrix.set_index('CustomerID')\n",
        "numeric_features = customer_product_matrix.select_dtypes(include=['number'])\n",
        "\n",
        "# 2. Data Scaling:\n",
        "scaled_data = scaler.fit_transform(numeric_features.values)  # Use numeric_features instead of customer_product_matrix\n",
        "scaled_df = pd.DataFrame(scaled_data, index=numeric_features.index, columns=numeric_features.columns)\n",
        "\n",
        "# 3. Similarity Calculation:\n",
        "similarity_matrix = cosine_similarity(scaled_df)\n",
        "similarity_df = pd.DataFrame(similarity_matrix, index=scaled_df.index, columns=scaled_df.index)\n",
        "\n",
        "# 4. Lookalike Recommendation:\n",
        "\n",
        "def get_top_lookalikes(customer_id, similarity_df, top_n=3):\n",
        "    \"\"\"\n",
        "    Returns the top N lookalikes for a given customer.\n",
        "    \"\"\"\n",
        "\n",
        "    similarity_scores = similarity_df.loc[customer_id].sort_values(ascending=False)\n",
        "\n",
        "\n",
        "    top_lookalikes = similarity_scores.drop(customer_id).head(top_n)\n",
        "\n",
        "    return top_lookalikes\n",
        "\n",
        "\n",
        "lookalike_results = {}\n",
        "target_customers = customers['CustomerID'].head(20).tolist()  # Get the first 20 customer IDs\n",
        "for customer_id in target_customers:\n",
        "    lookalikes = get_top_lookalikes(customer_id, similarity_df)\n",
        "    lookalike_results[customer_id] = [{'customer_id': cust_id, 'score': score} for cust_id, score in lookalikes.items()]\n",
        "\n",
        "# 5. Creating Lookalike.csv:\n",
        "\n",
        "import csv\n",
        "\n",
        "with open('Lookalike.csv', 'w', newline='') as csvfile:\n",
        "    writer = csv.writer(csvfile)\n",
        "    writer.writerow(['cust_id', 'lookalikes'])\n",
        "    for cust_id, lookalikes in lookalike_results.items():\n",
        "        writer.writerow([cust_id, lookalikes])\n",
        "\n",
        "print(\"Lookalike model built and recommendations saved to Lookalike.csv\")"
      ],
      "metadata": {
        "colab": {
          "base_uri": "https://localhost:8080/"
        },
        "id": "gPXq9sE4QRGy",
        "outputId": "6a2a7e45-def5-42c6-adda-9b859795527a"
      },
      "execution_count": 13,
      "outputs": [
        {
          "output_type": "stream",
          "name": "stdout",
          "text": [
            "Lookalike model built and recommendations saved to Lookalike.csv\n"
          ]
        }
      ]
    },
    {
      "cell_type": "code",
      "source": [
        "import pandas as pd\n",
        "\n",
        "# Read the Lookalike.csv file into a pandas DataFrame\n",
        "lookalike_df = pd.read_csv('Lookalike.csv')\n",
        "\n",
        "# Print the DataFrame\n",
        "print(lookalike_df)"
      ],
      "metadata": {
        "colab": {
          "base_uri": "https://localhost:8080/"
        },
        "id": "lUV9AauTXYUQ",
        "outputId": "87c53bdb-aaf8-4eda-bee2-1f1d2ba93b65"
      },
      "execution_count": 11,
      "outputs": [
        {
          "output_type": "stream",
          "name": "stdout",
          "text": [
            "   cust_id                                         lookalikes\n",
            "0    C0001  [{'customer_id': 'C0097', 'score': 0.392138445...\n",
            "1    C0002  [{'customer_id': 'C0109', 'score': 0.383668663...\n",
            "2    C0003  [{'customer_id': 'C0181', 'score': 0.408098377...\n",
            "3    C0004  [{'customer_id': 'C0053', 'score': 0.361517044...\n",
            "4    C0005  [{'customer_id': 'C0096', 'score': 0.427318363...\n",
            "5    C0006  [{'customer_id': 'C0171', 'score': 0.462140894...\n",
            "6    C0007  [{'customer_id': 'C0020', 'score': 0.490301040...\n",
            "7    C0008  [{'customer_id': 'C0091', 'score': 0.317707103...\n",
            "8    C0009  [{'customer_id': 'C0083', 'score': 0.559124507...\n",
            "9    C0010  [{'customer_id': 'C0094', 'score': 0.466910188...\n",
            "10   C0011  [{'customer_id': 'C0170', 'score': 0.449673621...\n",
            "11   C0012  [{'customer_id': 'C0128', 'score': 0.429763248...\n",
            "12   C0013  [{'customer_id': 'C0141', 'score': 0.321225913...\n",
            "13   C0014  [{'customer_id': 'C0128', 'score': 0.736704617...\n",
            "14   C0015  [{'customer_id': 'C0073', 'score': 0.533739806...\n",
            "15   C0016  [{'customer_id': 'C0192', 'score': 0.418340425...\n",
            "16   C0017  [{'customer_id': 'C0071', 'score': 0.509486880...\n",
            "17   C0018  [{'customer_id': 'C0087', 'score': 0.317300413...\n",
            "18   C0019  [{'customer_id': 'C0064', 'score': 0.415297497...\n",
            "19   C0020  [{'customer_id': 'C0007', 'score': 0.490301040...\n"
          ]
        }
      ]
    },
    {
      "cell_type": "code",
      "source": [
        "from google.colab import files\n",
        "\n",
        "files.download('Lookalike.csv')"
      ],
      "metadata": {
        "colab": {
          "base_uri": "https://localhost:8080/",
          "height": 17
        },
        "id": "7v_OgzeyeZmK",
        "outputId": "2f3ca610-3225-4125-bcf8-20925be551b7"
      },
      "execution_count": 12,
      "outputs": [
        {
          "output_type": "display_data",
          "data": {
            "text/plain": [
              "<IPython.core.display.Javascript object>"
            ],
            "application/javascript": [
              "\n",
              "    async function download(id, filename, size) {\n",
              "      if (!google.colab.kernel.accessAllowed) {\n",
              "        return;\n",
              "      }\n",
              "      const div = document.createElement('div');\n",
              "      const label = document.createElement('label');\n",
              "      label.textContent = `Downloading \"${filename}\": `;\n",
              "      div.appendChild(label);\n",
              "      const progress = document.createElement('progress');\n",
              "      progress.max = size;\n",
              "      div.appendChild(progress);\n",
              "      document.body.appendChild(div);\n",
              "\n",
              "      const buffers = [];\n",
              "      let downloaded = 0;\n",
              "\n",
              "      const channel = await google.colab.kernel.comms.open(id);\n",
              "      // Send a message to notify the kernel that we're ready.\n",
              "      channel.send({})\n",
              "\n",
              "      for await (const message of channel.messages) {\n",
              "        // Send a message to notify the kernel that we're ready.\n",
              "        channel.send({})\n",
              "        if (message.buffers) {\n",
              "          for (const buffer of message.buffers) {\n",
              "            buffers.push(buffer);\n",
              "            downloaded += buffer.byteLength;\n",
              "            progress.value = downloaded;\n",
              "          }\n",
              "        }\n",
              "      }\n",
              "      const blob = new Blob(buffers, {type: 'application/binary'});\n",
              "      const a = document.createElement('a');\n",
              "      a.href = window.URL.createObjectURL(blob);\n",
              "      a.download = filename;\n",
              "      div.appendChild(a);\n",
              "      a.click();\n",
              "      div.remove();\n",
              "    }\n",
              "  "
            ]
          },
          "metadata": {}
        },
        {
          "output_type": "display_data",
          "data": {
            "text/plain": [
              "<IPython.core.display.Javascript object>"
            ],
            "application/javascript": [
              "download(\"download_87b02c9f-f28a-4bc0-bbf1-abf503975f11\", \"Lookalike.csv\", 3537)"
            ]
          },
          "metadata": {}
        }
      ]
    },
    {
      "cell_type": "code",
      "source": [],
      "metadata": {
        "id": "Ws2uCKa8eaoh"
      },
      "execution_count": null,
      "outputs": []
    }
  ]
}